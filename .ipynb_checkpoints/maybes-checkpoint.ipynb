{
 "cells": [
  {
   "cell_type": "code",
   "execution_count": null,
   "metadata": {},
   "outputs": [],
   "source": [
    "#At this part we want to display the current season of each game\n",
    "m=[]\n",
    "y=[]\n",
    "for i in datas3['Date']:\n",
    "    x=i.split('/')\n",
    "    m.append(x[-2])\n",
    "    y.append(x[-1])\n",
    "\n",
    "for i in range(0, len(m)): \n",
    "    m[i] = int(m[i]) \n",
    "    \n",
    "for i in range(0, len(y)): \n",
    "    y[i] = int(y[i]) \n",
    "\n",
    "datas3['m']=m\n",
    "datas3['y']=y\n",
    "            "
   ]
  },
  {
   "cell_type": "code",
   "execution_count": null,
   "metadata": {},
   "outputs": [],
   "source": [
    "def fun(row):\n",
    "    if row['m'] >=1 or row['m']<=6:\n",
    "        res = row['y'], row['y']-1\n",
    "    \n",
    "    elif row['m'] >=8 or row['m']<=12:\n",
    "        res = row['y'], row['y']+1\n",
    "\n",
    "        \n",
    "    return res"
   ]
  }
 ],
 "metadata": {
  "kernelspec": {
   "display_name": "Python 3",
   "language": "python",
   "name": "python3"
  },
  "language_info": {
   "codemirror_mode": {
    "name": "ipython",
    "version": 3
   },
   "file_extension": ".py",
   "mimetype": "text/x-python",
   "name": "python",
   "nbconvert_exporter": "python",
   "pygments_lexer": "ipython3",
   "version": "3.8.3"
  }
 },
 "nbformat": 4,
 "nbformat_minor": 4
}
